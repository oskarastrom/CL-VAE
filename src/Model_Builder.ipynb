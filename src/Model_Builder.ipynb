{
 "cells": [
  {
   "cell_type": "markdown",
   "metadata": {
    "id": "0JvPUMUxuFcl"
   },
   "source": [
    "# Batch notebook for training models"
   ]
  },
  {
   "cell_type": "code",
   "execution_count": null,
   "metadata": {
    "id": "npFdQO_suFcm"
   },
   "outputs": [],
   "source": [
    "import os\n",
    "from datetime import datetime\n",
    "from keras.utils import to_categorical\n",
    "import tensorflow as tf\n",
    "\n",
    "import src.CLVAE as CLVAE"
   ]
  },
  {
   "cell_type": "markdown",
   "metadata": {},
   "source": [
    "# Define Model and Hyperparameters"
   ]
  },
  {
   "cell_type": "code",
   "execution_count": 2,
   "metadata": {},
   "outputs": [],
   "source": [
    "config_options = {\n",
    "    \"mnist\": {\n",
    "        'dataset': 'mnist',\n",
    "        \"network\": {\n",
    "            \"latent_dim\": 2,\n",
    "            \"intermediate_dims\": [[32,3,2],[64,3,2]]\n",
    "        },\n",
    "    },\n",
    "    \"fashion_mnist\": {\n",
    "        'dataset': 'fashion_mnist',\n",
    "        \"network\": {\n",
    "            \"latent_dim\": 3,\n",
    "            \"intermediate_dims\": [[16,3,1],[32,3,2],[64,3,2]]\n",
    "        },\n",
    "    },\n",
    "    \"cifar10\": {\n",
    "        'dataset': 'cifar10',\n",
    "        \"network\": {\n",
    "            \"latent_dim\": 3,\n",
    "            \"intermediate_dims\": [[64,3,2],[128,3,2],[256,3,2]]\n",
    "        },\n",
    "    }\n",
    "}"
   ]
  },
  {
   "cell_type": "code",
   "execution_count": 3,
   "metadata": {
    "colab": {
     "base_uri": "https://localhost:8080/"
    },
    "id": "iMPCGaRGuFcn",
    "outputId": "8bdf8bc1-7f81-4bf6-c93f-3bad5e876e4f"
   },
   "outputs": [
    {
     "name": "stdout",
     "output_type": "stream",
     "text": [
      "Loading Data\n",
      "Trainin set (54077, 28, 28, 1) (54077,)\n",
      "Inlier test set (9020, 28, 28, 1) (9020,)\n",
      "Outlier test set (6903, 28, 28, 1) (6903,)\n",
      "{'dataset': 'mnist', 'anomalous_digit': 0, 'num_classes': 9, 'loss': {'alpha': 0.16666666666666666, 'type': 'normal'}, 'network': {'optimizer': 'adam', 'img_dim': 28, 'color_dim': 1, 'original_dim': 784, 'intermediate_dims': [[32, 3, 2], [64, 3, 2]], 'latent_dim': 2}, 'gaussian_config': {'mode': 'fixed', 'num_classes': 9, 'random_order': True, 'r': 3}, 'run_info': {'batch_size': 100, 'epochs': 50}}\n"
     ]
    }
   ],
   "source": [
    "config_edit = config_options['mnist']\n",
    "config_edit['loss'] = { \"alpha\": 1/6 }\n",
    "\n",
    "print(\"Loading Data\")\n",
    "x_train, y_train, x_test, y_test, x_anom, y_anom, config = CLVAE.load_data(config_edit)\n",
    "print(\"Trainin set\", x_train.shape, y_train.shape)\n",
    "print(\"Inlier test set\", x_test.shape, y_test.shape)\n",
    "print(\"Outlier test set\", x_anom.shape, y_anom.shape)\n",
    "print(config)\n",
    "\n",
    "anomalous_digit = config['anomalous_digit']\n"
   ]
  },
  {
   "cell_type": "markdown",
   "metadata": {},
   "source": [
    "# Batch Train Models"
   ]
  },
  {
   "cell_type": "code",
   "execution_count": null,
   "metadata": {},
   "outputs": [],
   "source": [
    "callbacks = [tf.keras.callbacks.EarlyStopping(\n",
    "    monitor='val_loss',\n",
    "    patience=3,\n",
    "    restore_best_weights=True\n",
    ")]\n",
    "\n",
    "save_models = True\n",
    "model_name = \"clvae\"\n",
    "\n",
    "runs = 1\n",
    "for r in range(runs):\n",
    "    epochs = 50\n",
    "    batch_size = 128\n",
    "\n",
    "    if model_name == \"clvae\":\n",
    "        model, encoder, decoder = CLVAE.build_clvae(config)\n",
    "        model.fit([x_train, to_categorical(y_train)], epochs=epochs, batch_size=batch_size, validation_data=([x_test, to_categorical(y_test)], None), callbacks=callbacks)\n",
    "    elif model_name == \"vae\":\n",
    "        model, encoder, decoder = CLVAE.build_vae(config)\n",
    "        history = model.fit(x_train, epochs=epochs, batch_size=batch_size, validation_data=(x_test, None), callbacks=callbacks)\n",
    "    elif model_name == \"cnn\":\n",
    "        model = CLVAE.build_cnn(config)\n",
    "        history = model.fit(x_train, y_train, epochs=epochs, batch_size=batch_size, validation_data=(x_test, y_test), callbacks=callbacks)\n",
    "    \n",
    "    if config['network']['latent_dim'] == 3: data_type = config['dataset'] + \"_dim3\"\n",
    "    else: data_type = config['dataset']\n",
    "    \n",
    "    \n",
    "    if save_models:\n",
    "        date = datetime.now().strftime(\"%Y-%m-%d %H-%M-%S\")\n",
    "        model_folder = \"models/\" + data_type + \"/\" + model_name  + \"/\" + date\n",
    "        os.makedirs(model_folder, exist_ok=True)\n",
    "        print(\"saving to \" + model_folder)\n",
    "\n",
    "        model.save_weights(model_folder + \"/model\")\n",
    "        if model_name != \"cnn\":\n",
    "            encoder.save_weights(model_folder + \"/encoder\")\n",
    "            decoder.save_weights(model_folder + \"/decoder\")"
   ]
  }
 ],
 "metadata": {
  "accelerator": "TPU",
  "colab": {
   "provenance": []
  },
  "kernelspec": {
   "display_name": "Python 3 (ipykernel)",
   "language": "python",
   "name": "python3"
  },
  "language_info": {
   "codemirror_mode": {
    "name": "ipython",
    "version": 3
   },
   "file_extension": ".py",
   "mimetype": "text/x-python",
   "name": "python",
   "nbconvert_exporter": "python",
   "pygments_lexer": "ipython3",
   "version": "3.10.12"
  }
 },
 "nbformat": 4,
 "nbformat_minor": 1
}
