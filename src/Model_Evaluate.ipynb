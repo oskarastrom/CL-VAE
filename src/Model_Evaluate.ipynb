{
 "cells": [
  {
   "cell_type": "markdown",
   "metadata": {
    "id": "0JvPUMUxuFcl"
   },
   "source": [
    "# Evaluate models on test set and compare metrics"
   ]
  },
  {
   "cell_type": "code",
   "execution_count": null,
   "metadata": {
    "id": "npFdQO_suFcm"
   },
   "outputs": [],
   "source": [
    "import os\n",
    "import numpy as np\n",
    "from scipy.special import softmax\n",
    "from sklearn.decomposition import PCA\n",
    "\n",
    "import src.CLVAE as CLVAE"
   ]
  },
  {
   "cell_type": "markdown",
   "metadata": {},
   "source": [
    "# Define Model and Hyperparameters"
   ]
  },
  {
   "cell_type": "code",
   "execution_count": 2,
   "metadata": {},
   "outputs": [],
   "source": [
    "config_options = {\n",
    "    \"mnist\": {\n",
    "        'dataset': 'mnist',\n",
    "        \"network\": {\n",
    "            \"latent_dim\": 2,\n",
    "            \"intermediate_dims\": [[32,3,2],[64,3,2]]\n",
    "        },\n",
    "    },\n",
    "    \"fashion_mnist\": {\n",
    "        'dataset': 'fashion_mnist',\n",
    "        \"network\": {\n",
    "            \"latent_dim\": 3,\n",
    "            \"intermediate_dims\": [[16,3,1],[32,3,2],[64,3,2]]\n",
    "        },\n",
    "    },\n",
    "    \"cifar10\": {\n",
    "        'dataset': 'cifar10',\n",
    "        \"network\": {\n",
    "            \"latent_dim\": 3,\n",
    "            \"intermediate_dims\": [[64,3,2],[128,3,2],[256,3,2]]\n",
    "        },\n",
    "    }\n",
    "}"
   ]
  },
  {
   "cell_type": "code",
   "execution_count": 6,
   "metadata": {
    "colab": {
     "base_uri": "https://localhost:8080/"
    },
    "id": "iMPCGaRGuFcn",
    "outputId": "8bdf8bc1-7f81-4bf6-c93f-3bad5e876e4f"
   },
   "outputs": [
    {
     "name": "stdout",
     "output_type": "stream",
     "text": [
      "Loading Data\n",
      "(54077, 28, 28, 1) (54077,)\n",
      "(9020, 28, 28, 1) (9020,)\n",
      "(6903, 28, 28, 1) (6903,)\n"
     ]
    }
   ],
   "source": [
    "config = config_options['mnist']\n",
    "\n",
    "print(\"Loading Data\")\n",
    "x_train, y_train, x_test, y_test, x_anom, y_anom, config = CLVAE.load_data(config)\n",
    "print(x_train.shape, y_train.shape)\n",
    "print(x_test.shape, y_test.shape)\n",
    "print(x_anom.shape, y_anom.shape)\n",
    "\n",
    "anomalous_digit = config['anomalous_digit']\n",
    "dataset = config['dataset']\n",
    "if config['network']['latent_dim'] == 3: dataset += \"_dim3\"\n",
    "os.makedirs(\"confidences/\" + dataset, exist_ok=True)"
   ]
  },
  {
   "cell_type": "markdown",
   "metadata": {},
   "source": [
    "# Calc confidences CLVAE"
   ]
  },
  {
   "cell_type": "code",
   "execution_count": null,
   "metadata": {},
   "outputs": [],
   "source": [
    "path = \"models/\" + dataset + \"/clvae\"\n",
    "files = sorted(os.listdir(path))\n",
    "latent_div_conf = np.zeros([y_anom.shape[0]*2, 10, len(files)])\n",
    "mse_conf = np.zeros([y_anom.shape[0]*2, len(files)])\n",
    "\n",
    "model, encoder, decoder = CLVAE.build_clvae(config)\n",
    "\n",
    "idx = 0\n",
    "for f in files:\n",
    "    print(f)\n",
    "    model.load_weights(path + \"/\" + f + \"/model\")\n",
    "    encoder.load_weights(path + \"/\" + f + \"/encoder\")\n",
    "    decoder.load_weights(path + \"/\" + f + \"/decoder\")\n",
    "\n",
    "    print(\"Predicting Result\")\n",
    "    z_train_clvae = encoder.predict(x_train)\n",
    "    z_test_clvae = encoder.predict(x_test)\n",
    "    z_anom_clvae = encoder.predict(x_anom)\n",
    "\n",
    "    x_rec_test_clvae = decoder.predict(z_test_clvae)\n",
    "    x_rec_anom_clvae = decoder.predict(z_anom_clvae)\n",
    "\n",
    "\n",
    "    def get_conf(config, z_train, y_train, z_test, y_test, z_anom, y_anom):\n",
    "        mu, sigma, labels, max_pdf = CLVAE.calc_distribution(config, z_train, y_train)\n",
    "\n",
    "        y_full_test = np.zeros(y_test.shape)\n",
    "        y_full_test[y_test < anomalous_digit] = y_test[y_test < anomalous_digit]\n",
    "        y_full_test[y_test >= anomalous_digit] = y_test[y_test >= anomalous_digit] + 1\n",
    "        N_norm = y_anom.shape[0]\n",
    "        y_full_test = np.hstack([y_full_test[:N_norm], y_anom])\n",
    "        z_full_test = np.vstack([z_test[:N_norm, :], z_anom])\n",
    "\n",
    "\n",
    "        conf = np.zeros([z_full_test.shape[0], 10])\n",
    "        for j in range(z_full_test.shape[0]):\n",
    "            for i in range(9):\n",
    "                cls = i\n",
    "                if i >= anomalous_digit: cls += 1\n",
    "                x = z_full_test[j,:] - mu[i,:]\n",
    "                sigma_inv = np.linalg.inv(sigma[i])\n",
    "                conf[j, cls] = np.matmul(np.matmul(x, sigma_inv), x)\n",
    "\n",
    "        conf = CLVAE.get_confidences(config, z_full_test, mu, sigma, max_pdf)\n",
    "        \n",
    "        return conf\n",
    "    \n",
    "    def get_mse(x_test, rec_test, y_test, x_anom, rec_anom, y_anom):\n",
    "\n",
    "        y_full_test = np.zeros(y_test.shape)\n",
    "        y_full_test[y_test < anomalous_digit] = y_test[y_test < anomalous_digit]\n",
    "        y_full_test[y_test >= anomalous_digit] = y_test[y_test >= anomalous_digit] + 1\n",
    "        N_norm = y_anom.shape[0]\n",
    "        y_full_test = np.hstack([y_full_test[:N_norm], y_anom])\n",
    "\n",
    "        full_size = config['network']['original_dim']*config['network']['color_dim']\n",
    "        err = x_test - rec_test\n",
    "        err = np.reshape(err, [-1, full_size])\n",
    "        mse_test = np.mean(err, axis=1)\n",
    "        err = x_anom - rec_anom\n",
    "        err = np.reshape(err, [-1, full_size])\n",
    "        mse_anom = np.mean(err, axis=1)\n",
    "        mse = np.hstack([mse_test[:N_norm], mse_anom])\n",
    "        return mse\n",
    "\n",
    "    latent_div_conf[:, :, idx] = get_conf(config, z_train_clvae, y_train, z_test_clvae, y_test, z_anom_clvae, y_anom)\n",
    "    mse_conf[:, idx] = get_mse(x_test, x_rec_test_clvae, y_test, x_anom, x_rec_anom_clvae, y_anom)\n",
    "    idx += 1\n"
   ]
  },
  {
   "cell_type": "code",
   "execution_count": 8,
   "metadata": {},
   "outputs": [],
   "source": [
    "np.save(\"confidences/\" + dataset + \"/clvae_ld\", latent_div_conf)\n",
    "np.save(\"confidences/\" + dataset + \"/clvae_mse\", mse_conf)"
   ]
  },
  {
   "cell_type": "markdown",
   "metadata": {},
   "source": [
    "# Confidences VAE"
   ]
  },
  {
   "cell_type": "code",
   "execution_count": null,
   "metadata": {},
   "outputs": [],
   "source": [
    "\n",
    "path = \"models/\" + dataset + \"/vae\"\n",
    "files = sorted(os.listdir(path))\n",
    "mse_conf = np.zeros([y_anom.shape[0]*2, len(files)])\n",
    "\n",
    "\n",
    "model, encoder, decoder = CLVAE.build_vae(config)\n",
    "\n",
    "full_size = config['network']['original_dim']*config['network']['color_dim']\n",
    "\n",
    "idx = 0\n",
    "for f in files:\n",
    "    print(f)\n",
    "    model.load_weights(path + \"/\" + f + \"/model\")\n",
    "    encoder.load_weights(path + \"/\" + f + \"/encoder\")\n",
    "    decoder.load_weights(path + \"/\" + f + \"/decoder\")\n",
    "\n",
    "    print(\"Predicting Result\")\n",
    "    z_test_clvae = encoder.predict(x_test)\n",
    "    z_anom_clvae = encoder.predict(x_anom)\n",
    "\n",
    "    if len(z_test_clvae) == 3: z_test_clvae = z_test_clvae[2]\n",
    "    if len(z_anom_clvae) == 3: z_anom_clvae = z_anom_clvae[2]\n",
    "\n",
    "    x_rec_test_clvae = decoder.predict(z_test_clvae)\n",
    "    x_rec_anom_clvae = decoder.predict(z_anom_clvae)\n",
    "    \n",
    "    def get_mse(x_test, rec_test, y_test, x_anom, rec_anom, y_anom):\n",
    "\n",
    "        N_norm = y_anom.shape[0]\n",
    "\n",
    "        err = x_test - rec_test\n",
    "        err = np.reshape(err, [-1, full_size])\n",
    "        mse_test = np.mean(err**2, axis=1)\n",
    "\n",
    "        err = x_anom - rec_anom\n",
    "        err = np.reshape(err, [-1, full_size])\n",
    "        mse_anom = np.mean(err**2, axis=1)\n",
    "        \n",
    "        mse = np.hstack([mse_test[:N_norm], mse_anom])\n",
    "        return mse\n",
    "\n",
    "    mse_conf[:, idx] = get_mse(x_test, x_rec_test_clvae, y_test, x_anom, x_rec_anom_clvae, y_anom)\n",
    "    #print(get_auc(mse_conf[:, idx], 0, np.max(mse_conf[:, idx])))\n",
    "    idx += 1\n"
   ]
  },
  {
   "cell_type": "code",
   "execution_count": 6,
   "metadata": {},
   "outputs": [],
   "source": [
    "np.save(\"confidences/\" + dataset + \"/vae_mse\", mse_conf)"
   ]
  },
  {
   "cell_type": "markdown",
   "metadata": {},
   "source": [
    "# Confidence CNN"
   ]
  },
  {
   "cell_type": "code",
   "execution_count": null,
   "metadata": {},
   "outputs": [],
   "source": [
    "\n",
    "path = \"models/\" + dataset + \"/cnn\"\n",
    "files = sorted(os.listdir(path))\n",
    "scores = np.zeros([y_anom.shape[0]*2, len(files)])\n",
    "\n",
    "\n",
    "model = CLVAE.build_cnn(config)\n",
    "model.summary()\n",
    "\n",
    "idx = 0\n",
    "for f in files:\n",
    "    print(f)\n",
    "    model.load_weights(path + \"/\" + f + \"/model\")\n",
    "\n",
    "    print(\"Predicting Result\")\n",
    "    conf_test = model.predict(x_test)\n",
    "    conf_anom = model.predict(x_anom)\n",
    "    \n",
    "    N_norm = y_anom.shape[0]\n",
    "    score_test = -np.max(softmax(conf_test, axis=1), axis=1)\n",
    "    score_anom = -np.max(softmax(conf_anom, axis=1), axis=1)\n",
    "    score = np.hstack([score_test[:N_norm], score_anom])\n",
    "\n",
    "    scores[:, idx] = score\n",
    "    #print(get_auc(mse_conf[:, idx], 0, np.max(mse_conf[:, idx])))\n",
    "    idx += 1\n"
   ]
  },
  {
   "cell_type": "code",
   "execution_count": 4,
   "metadata": {},
   "outputs": [],
   "source": [
    "np.save(\"confidences/\" + dataset + \"/cnn_score\", scores)"
   ]
  },
  {
   "cell_type": "markdown",
   "metadata": {},
   "source": [
    "# Confidence PCA"
   ]
  },
  {
   "cell_type": "code",
   "execution_count": 28,
   "metadata": {},
   "outputs": [
    {
     "name": "stdout",
     "output_type": "stream",
     "text": [
      "(13806, 28, 28, 1) (13806,)\n",
      "(54077, 784)\n"
     ]
    }
   ],
   "source": [
    "# PCA\n",
    "y_full_test = np.zeros(y_test.shape)\n",
    "y_full_test[y_test < anomalous_digit] = y_test[y_test < anomalous_digit]\n",
    "y_full_test[y_test >= anomalous_digit] = y_test[y_test >= anomalous_digit] + 1\n",
    "N_norm = y_anom.shape[0]\n",
    "y_full_test = np.hstack([y_full_test[:N_norm], y_anom])\n",
    "x_full_test = np.vstack([x_test[:N_norm, :], x_anom])\n",
    "print(x_full_test.shape, y_full_test.shape)\n",
    "Xtrain = np.reshape(x_train, (-1, config['network']['original_dim']*config['network']['color_dim']))\n",
    "Xtest = np.reshape(x_full_test, (-1, config['network']['original_dim']*config['network']['color_dim']))\n",
    "print(Xtrain.shape)\n",
    "\n",
    "scores = np.zeros((Xtest.shape[0], 9))\n",
    "for i in range(9):\n",
    "    pca = PCA(n_components=config['network']['latent_dim'])\n",
    "    pca.fit(Xtrain[y_train == i])\n",
    "    scores[:, i] = pca.score_samples(Xtest)\n",
    "max_score = np.max(scores, axis=1)\n",
    "score = -max_score"
   ]
  },
  {
   "cell_type": "code",
   "execution_count": 29,
   "metadata": {},
   "outputs": [],
   "source": [
    "np.save(\"confidences/\" + dataset + \"/pca_score\", score)"
   ]
  }
 ],
 "metadata": {
  "accelerator": "TPU",
  "colab": {
   "provenance": []
  },
  "kernelspec": {
   "display_name": "Python 3 (ipykernel)",
   "language": "python",
   "name": "python3"
  },
  "language_info": {
   "codemirror_mode": {
    "name": "ipython",
    "version": 3
   },
   "file_extension": ".py",
   "mimetype": "text/x-python",
   "name": "python",
   "nbconvert_exporter": "python",
   "pygments_lexer": "ipython3",
   "version": "3.10.12"
  }
 },
 "nbformat": 4,
 "nbformat_minor": 1
}
